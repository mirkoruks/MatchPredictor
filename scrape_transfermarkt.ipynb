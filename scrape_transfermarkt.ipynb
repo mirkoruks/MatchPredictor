{
 "cells": [
  {
   "cell_type": "code",
   "execution_count": 1,
   "metadata": {},
   "outputs": [],
   "source": [
    "from selenium import webdriver\n",
    "from selenium.webdriver.common.keys import Keys\n",
    "from selenium.webdriver.common.by import By\n",
    "from selenium.webdriver.support import expected_conditions as EC\n",
    "from selenium.webdriver.common.action_chains import ActionChains\n",
    "from selenium.webdriver.chrome.options import Options\n",
    "from selenium.webdriver.support.ui import WebDriverWait\n",
    "import re\n",
    "from bs4 import BeautifulSoup\n",
    "from io import StringIO\n",
    "import pandas as pd\n",
    "import requests\n",
    "from datetime import datetime\n",
    "import time"
   ]
  },
  {
   "cell_type": "code",
   "execution_count": 2,
   "metadata": {},
   "outputs": [],
   "source": [
    "url = \"https://www.transfermarkt.com/joshua-kimmich/marktwertverlauf/spieler/161056\""
   ]
  },
  {
   "cell_type": "code",
   "execution_count": 3,
   "metadata": {},
   "outputs": [],
   "source": [
    "path_to_extension = r'C:\\Users\\Mirko\\AppData\\Local\\Google\\Chrome\\User Data\\Default\\Extensions\\cjpalhdlnbpafiamejdnhcphjbkeiagm\\1.61.0_0'\n",
    "\n",
    "chrome_options = Options()\n",
    "chrome_options.add_argument('load-extension=' + path_to_extension)\n",
    "\n",
    "\n",
    "driver = webdriver.Chrome(options=chrome_options)"
   ]
  },
  {
   "cell_type": "code",
   "execution_count": 9,
   "metadata": {},
   "outputs": [],
   "source": [
    "driver.get(url)"
   ]
  },
  {
   "cell_type": "code",
   "execution_count": 10,
   "metadata": {},
   "outputs": [],
   "source": [
    "iframe = driver.find_element(By.ID, \"sp_message_iframe_953358\")\n",
    "driver.switch_to.frame(iframe)\n",
    "driver.find_element(By.XPATH, \"/html/body/div/div[2]/div[3]/div[1]/div/button\").click()"
   ]
  },
  {
   "cell_type": "code",
   "execution_count": 11,
   "metadata": {},
   "outputs": [],
   "source": [
    "driver.switch_to.parent_frame()"
   ]
  },
  {
   "cell_type": "code",
   "execution_count": 328,
   "metadata": {},
   "outputs": [],
   "source": [
    "result_list = []"
   ]
  },
  {
   "cell_type": "code",
   "execution_count": 329,
   "metadata": {},
   "outputs": [],
   "source": [
    "values_raw = driver.find_element(By.CLASS_NAME,\"box\").find_element(By.CLASS_NAME, \"chart-dots\").find_elements(By.CSS_SELECTOR, \"*\")"
   ]
  },
  {
   "cell_type": "code",
   "execution_count": null,
   "metadata": {},
   "outputs": [],
   "source": [
    "values_raw"
   ]
  },
  {
   "cell_type": "code",
   "execution_count": null,
   "metadata": {},
   "outputs": [],
   "source": [
    "element_to_hover_over = values_raw[1]\n",
    "hover = ActionChains(driver).move_to_element(element_to_hover_over)\n",
    "hover.perform()"
   ]
  },
  {
   "cell_type": "code",
   "execution_count": null,
   "metadata": {},
   "outputs": [],
   "source": [
    "result = driver.find_element(By.CLASS_NAME, \"chart-tooltip.svelte-xxbpuy\").find_element(By.CLASS_NAME, \"left.svelte-xxbpuy\").text"
   ]
  },
  {
   "cell_type": "code",
   "execution_count": null,
   "metadata": {},
   "outputs": [],
   "source": []
  },
  {
   "cell_type": "code",
   "execution_count": 334,
   "metadata": {},
   "outputs": [
    {
     "data": {
      "text/plain": [
       "'Jan 24, 2014\\nMarket value: €500k\\nClub: RB Leipzig\\nAge: 18'"
      ]
     },
     "execution_count": 334,
     "metadata": {},
     "output_type": "execute_result"
    }
   ],
   "source": [
    "result"
   ]
  },
  {
   "cell_type": "code",
   "execution_count": 335,
   "metadata": {},
   "outputs": [
    {
     "data": {
      "text/plain": [
       "'18'"
      ]
     },
     "execution_count": 335,
     "metadata": {},
     "output_type": "execute_result"
    }
   ],
   "source": [
    "date = re.search(\"^.*\\n\", result).group(0)\n",
    "date = re.sub(\"\\n\", \"\", date)\t\n",
    "\n",
    "value = re.search(\"Market value:.*\\n\", result).group(0)\n",
    "value = re.sub(\"\\n\", \"\", value)\t\n",
    "value = re.sub(\".*: \",\"\", value)\n",
    "value = re.sub(\"k\",\"000\", value)\n",
    "value = re.search(\"\\\\d+\", value).group(0)\n",
    "\n",
    "club = re.search(\"Club:.*\\n\", result).group(0)\n",
    "club = re.sub(\"\\n\", \"\", club)\t\n",
    "club = re.sub(\".*: \",\"\", club)\n",
    "\n",
    "age = re.search(\"Age:.*\", result).group(0)\n",
    "age = re.sub(\"\\n\", \"\", age)\t\n",
    "age = re.sub(\".*: \",\"\", age)\n",
    "age"
   ]
  },
  {
   "cell_type": "code",
   "execution_count": null,
   "metadata": {},
   "outputs": [],
   "source": [
    "result_list.append({\"Date\": date, \"Value\": value, \"Club\": club, \"Age\": age})"
   ]
  },
  {
   "cell_type": "code",
   "execution_count": 337,
   "metadata": {},
   "outputs": [
    {
     "data": {
      "text/plain": [
       "[{'Date': 'Jan 24, 2014',\n",
       "  'Value': '500000',\n",
       "  'Club': 'RB Leipzig',\n",
       "  'Age': '18'}]"
      ]
     },
     "execution_count": 337,
     "metadata": {},
     "output_type": "execute_result"
    }
   ],
   "source": [
    "result_list"
   ]
  },
  {
   "cell_type": "code",
   "execution_count": 23,
   "metadata": {},
   "outputs": [
    {
     "data": {
      "text/plain": [
       "'https://www.transfermarkt.com/serie-a/startseite/wettbewerb/IT1/plus/?saison_id=2024'"
      ]
     },
     "execution_count": 23,
     "metadata": {},
     "output_type": "execute_result"
    }
   ],
   "source": [
    "year = 2024\n",
    "url = f\"https://www.transfermarkt.com/bundesliga/startseite/wettbewerb/L1/plus/?saison_id={year}\"\n",
    "\"https://www.transfermarkt.com/premier-league/startseite/wettbewerb/GB1/plus/?saison_id=2024\"\n",
    "\"https://www.transfermarkt.com/laliga/startseite/wettbewerb/ES1/plus/?saison_id=2024\"\n",
    "\"https://www.transfermarkt.com/ligue-1/startseite/wettbewerb/FR1/plus/?saison_id=2024\"\n",
    "\"https://www.transfermarkt.com/serie-a/startseite/wettbewerb/IT1/plus/?saison_id=2024\""
   ]
  },
  {
   "cell_type": "code",
   "execution_count": 24,
   "metadata": {},
   "outputs": [],
   "source": [
    "path_to_extension = r'C:\\Users\\Mirko\\AppData\\Local\\Google\\Chrome\\User Data\\Default\\Extensions\\cjpalhdlnbpafiamejdnhcphjbkeiagm\\1.61.0_0'\n",
    "\n",
    "chrome_options = Options()\n",
    "chrome_options.add_argument('load-extension=' + path_to_extension)\n",
    "\n",
    "\n",
    "driver = webdriver.Chrome(options=chrome_options)"
   ]
  },
  {
   "cell_type": "code",
   "execution_count": 25,
   "metadata": {},
   "outputs": [],
   "source": [
    "driver.get(url)"
   ]
  },
  {
   "cell_type": "code",
   "execution_count": 26,
   "metadata": {},
   "outputs": [],
   "source": [
    "iframe = driver.find_element(By.ID, \"sp_message_iframe_953358\")\n",
    "driver.switch_to.frame(iframe)\n",
    "driver.find_element(By.XPATH, \"/html/body/div/div[2]/div[3]/div[1]/div/button\").click()"
   ]
  },
  {
   "cell_type": "code",
   "execution_count": 27,
   "metadata": {},
   "outputs": [],
   "source": [
    "html = driver.page_source"
   ]
  },
  {
   "cell_type": "code",
   "execution_count": 28,
   "metadata": {},
   "outputs": [],
   "source": [
    "soup = BeautifulSoup(html, \"html\")"
   ]
  },
  {
   "cell_type": "code",
   "execution_count": 29,
   "metadata": {},
   "outputs": [
    {
     "data": {
      "text/html": [
       "<div>\n",
       "<style scoped>\n",
       "    .dataframe tbody tr th:only-of-type {\n",
       "        vertical-align: middle;\n",
       "    }\n",
       "\n",
       "    .dataframe tbody tr th {\n",
       "        vertical-align: top;\n",
       "    }\n",
       "\n",
       "    .dataframe thead th {\n",
       "        text-align: right;\n",
       "    }\n",
       "</style>\n",
       "<table border=\"1\" class=\"dataframe\">\n",
       "  <thead>\n",
       "    <tr style=\"text-align: right;\">\n",
       "      <th></th>\n",
       "      <th>Club</th>\n",
       "      <th>Link</th>\n",
       "      <th>Season</th>\n",
       "    </tr>\n",
       "  </thead>\n",
       "  <tbody>\n",
       "    <tr>\n",
       "      <th>0</th>\n",
       "      <td>Bayern Munich</td>\n",
       "      <td>https://www.transfermarkt.com/fc-bayern-munche...</td>\n",
       "      <td>2024/2025</td>\n",
       "    </tr>\n",
       "    <tr>\n",
       "      <th>1</th>\n",
       "      <td>Bayer 04 Leverkusen</td>\n",
       "      <td>https://www.transfermarkt.com/bayer-04-leverku...</td>\n",
       "      <td>2024/2025</td>\n",
       "    </tr>\n",
       "    <tr>\n",
       "      <th>2</th>\n",
       "      <td>RB Leipzig</td>\n",
       "      <td>https://www.transfermarkt.com/rasenballsport-l...</td>\n",
       "      <td>2024/2025</td>\n",
       "    </tr>\n",
       "    <tr>\n",
       "      <th>3</th>\n",
       "      <td>Borussia Dortmund</td>\n",
       "      <td>https://www.transfermarkt.com/borussia-dortmun...</td>\n",
       "      <td>2024/2025</td>\n",
       "    </tr>\n",
       "    <tr>\n",
       "      <th>4</th>\n",
       "      <td>VfB Stuttgart</td>\n",
       "      <td>https://www.transfermarkt.com/vfb-stuttgart/st...</td>\n",
       "      <td>2024/2025</td>\n",
       "    </tr>\n",
       "    <tr>\n",
       "      <th>5</th>\n",
       "      <td>Eintracht Frankfurt</td>\n",
       "      <td>https://www.transfermarkt.com/eintracht-frankf...</td>\n",
       "      <td>2024/2025</td>\n",
       "    </tr>\n",
       "    <tr>\n",
       "      <th>6</th>\n",
       "      <td>VfL Wolfsburg</td>\n",
       "      <td>https://www.transfermarkt.com/vfl-wolfsburg/st...</td>\n",
       "      <td>2024/2025</td>\n",
       "    </tr>\n",
       "    <tr>\n",
       "      <th>7</th>\n",
       "      <td>SC Freiburg</td>\n",
       "      <td>https://www.transfermarkt.com/sc-freiburg/star...</td>\n",
       "      <td>2024/2025</td>\n",
       "    </tr>\n",
       "    <tr>\n",
       "      <th>8</th>\n",
       "      <td>TSG 1899 Hoffenheim</td>\n",
       "      <td>https://www.transfermarkt.com/tsg-1899-hoffenh...</td>\n",
       "      <td>2024/2025</td>\n",
       "    </tr>\n",
       "    <tr>\n",
       "      <th>9</th>\n",
       "      <td>Borussia Mönchengladbach</td>\n",
       "      <td>https://www.transfermarkt.com/borussia-monchen...</td>\n",
       "      <td>2024/2025</td>\n",
       "    </tr>\n",
       "    <tr>\n",
       "      <th>10</th>\n",
       "      <td>1.FC Union Berlin</td>\n",
       "      <td>https://www.transfermarkt.com/1-fc-union-berli...</td>\n",
       "      <td>2024/2025</td>\n",
       "    </tr>\n",
       "    <tr>\n",
       "      <th>11</th>\n",
       "      <td>SV Werder Bremen</td>\n",
       "      <td>https://www.transfermarkt.com/sv-werder-bremen...</td>\n",
       "      <td>2024/2025</td>\n",
       "    </tr>\n",
       "    <tr>\n",
       "      <th>12</th>\n",
       "      <td>FC Augsburg</td>\n",
       "      <td>https://www.transfermarkt.com/fc-augsburg/star...</td>\n",
       "      <td>2024/2025</td>\n",
       "    </tr>\n",
       "    <tr>\n",
       "      <th>13</th>\n",
       "      <td>1.FSV Mainz 05</td>\n",
       "      <td>https://www.transfermarkt.com/1-fsv-mainz-05/s...</td>\n",
       "      <td>2024/2025</td>\n",
       "    </tr>\n",
       "    <tr>\n",
       "      <th>14</th>\n",
       "      <td>1.FC Heidenheim 1846</td>\n",
       "      <td>https://www.transfermarkt.com/1-fc-heidenheim-...</td>\n",
       "      <td>2024/2025</td>\n",
       "    </tr>\n",
       "    <tr>\n",
       "      <th>15</th>\n",
       "      <td>VfL Bochum</td>\n",
       "      <td>https://www.transfermarkt.com/vfl-bochum/start...</td>\n",
       "      <td>2024/2025</td>\n",
       "    </tr>\n",
       "    <tr>\n",
       "      <th>16</th>\n",
       "      <td>FC St. Pauli</td>\n",
       "      <td>https://www.transfermarkt.com/fc-st-pauli/star...</td>\n",
       "      <td>2024/2025</td>\n",
       "    </tr>\n",
       "    <tr>\n",
       "      <th>17</th>\n",
       "      <td>Holstein Kiel</td>\n",
       "      <td>https://www.transfermarkt.com/holstein-kiel/st...</td>\n",
       "      <td>2024/2025</td>\n",
       "    </tr>\n",
       "  </tbody>\n",
       "</table>\n",
       "</div>"
      ],
      "text/plain": [
       "                        Club  \\\n",
       "0              Bayern Munich   \n",
       "1        Bayer 04 Leverkusen   \n",
       "2                 RB Leipzig   \n",
       "3          Borussia Dortmund   \n",
       "4              VfB Stuttgart   \n",
       "5        Eintracht Frankfurt   \n",
       "6              VfL Wolfsburg   \n",
       "7                SC Freiburg   \n",
       "8        TSG 1899 Hoffenheim   \n",
       "9   Borussia Mönchengladbach   \n",
       "10         1.FC Union Berlin   \n",
       "11          SV Werder Bremen   \n",
       "12               FC Augsburg   \n",
       "13            1.FSV Mainz 05   \n",
       "14      1.FC Heidenheim 1846   \n",
       "15                VfL Bochum   \n",
       "16              FC St. Pauli   \n",
       "17             Holstein Kiel   \n",
       "\n",
       "                                                 Link     Season  \n",
       "0   https://www.transfermarkt.com/fc-bayern-munche...  2024/2025  \n",
       "1   https://www.transfermarkt.com/bayer-04-leverku...  2024/2025  \n",
       "2   https://www.transfermarkt.com/rasenballsport-l...  2024/2025  \n",
       "3   https://www.transfermarkt.com/borussia-dortmun...  2024/2025  \n",
       "4   https://www.transfermarkt.com/vfb-stuttgart/st...  2024/2025  \n",
       "5   https://www.transfermarkt.com/eintracht-frankf...  2024/2025  \n",
       "6   https://www.transfermarkt.com/vfl-wolfsburg/st...  2024/2025  \n",
       "7   https://www.transfermarkt.com/sc-freiburg/star...  2024/2025  \n",
       "8   https://www.transfermarkt.com/tsg-1899-hoffenh...  2024/2025  \n",
       "9   https://www.transfermarkt.com/borussia-monchen...  2024/2025  \n",
       "10  https://www.transfermarkt.com/1-fc-union-berli...  2024/2025  \n",
       "11  https://www.transfermarkt.com/sv-werder-bremen...  2024/2025  \n",
       "12  https://www.transfermarkt.com/fc-augsburg/star...  2024/2025  \n",
       "13  https://www.transfermarkt.com/1-fsv-mainz-05/s...  2024/2025  \n",
       "14  https://www.transfermarkt.com/1-fc-heidenheim-...  2024/2025  \n",
       "15  https://www.transfermarkt.com/vfl-bochum/start...  2024/2025  \n",
       "16  https://www.transfermarkt.com/fc-st-pauli/star...  2024/2025  \n",
       "17  https://www.transfermarkt.com/holstein-kiel/st...  2024/2025  "
      ]
     },
     "execution_count": 29,
     "metadata": {},
     "output_type": "execute_result"
    }
   ],
   "source": [
    "html_table = soup.find(id = \"yw1\").find(\"table\")\n",
    "table = pd.read_html(StringIO(str(html_table)))[0]\n",
    "club_name = table.loc[table[\"Club.1\"].notnull(),\"Club.1\"]\n",
    "links_raw = soup.find(id = \"yw1\").find(\"tbody\").find_all(class_ = \"zentriert no-border-rechts\")\n",
    "links = []\n",
    "for i in links_raw:\n",
    "    links.append(f\"https://www.transfermarkt.com{i.find(\"a\")[\"href\"]}\")\n",
    "final_table = pd.DataFrame({\"Club\": club_name, \"Link\": links, \"Season\": f\"{year}/{year+1}\"})\n",
    "final_table"
   ]
  },
  {
   "cell_type": "code",
   "execution_count": 30,
   "metadata": {},
   "outputs": [],
   "source": [
    "driver.get(links[0])"
   ]
  },
  {
   "cell_type": "code",
   "execution_count": 31,
   "metadata": {},
   "outputs": [
    {
     "data": {
      "text/plain": [
       "['https://www.transfermarkt.com/manuel-neuer/marktwertverlauf/spieler/17259',\n",
       " 'https://www.transfermarkt.com/daniel-peretz/marktwertverlauf/spieler/468539',\n",
       " 'https://www.transfermarkt.com/sven-ulreich/marktwertverlauf/spieler/40680',\n",
       " 'https://www.transfermarkt.com/dayot-upamecano/marktwertverlauf/spieler/344695',\n",
       " 'https://www.transfermarkt.com/min-jae-kim/marktwertverlauf/spieler/503482',\n",
       " 'https://www.transfermarkt.com/hiroki-ito/marktwertverlauf/spieler/353892',\n",
       " 'https://www.transfermarkt.com/eric-dier/marktwertverlauf/spieler/175722',\n",
       " 'https://www.transfermarkt.com/tarek-buchmann/marktwertverlauf/spieler/744729',\n",
       " 'https://www.transfermarkt.com/alphonso-davies/marktwertverlauf/spieler/424204',\n",
       " 'https://www.transfermarkt.com/raphael-guerreiro/marktwertverlauf/spieler/170986',\n",
       " 'https://www.transfermarkt.com/adam-aznou/marktwertverlauf/spieler/938146',\n",
       " 'https://www.transfermarkt.com/josip-stanisic/marktwertverlauf/spieler/483046',\n",
       " 'https://www.transfermarkt.com/sacha-boey/marktwertverlauf/spieler/475413',\n",
       " 'https://www.transfermarkt.com/joshua-kimmich/marktwertverlauf/spieler/161056',\n",
       " 'https://www.transfermarkt.com/joao-palhinha/marktwertverlauf/spieler/257455',\n",
       " 'https://www.transfermarkt.com/aleksandar-pavlovic/marktwertverlauf/spieler/792380',\n",
       " 'https://www.transfermarkt.com/konrad-laimer/marktwertverlauf/spieler/223967',\n",
       " 'https://www.transfermarkt.com/leon-goretzka/marktwertverlauf/spieler/153084',\n",
       " 'https://www.transfermarkt.com/jamal-musiala/marktwertverlauf/spieler/580195',\n",
       " 'https://www.transfermarkt.com/serge-gnabry/marktwertverlauf/spieler/159471',\n",
       " 'https://www.transfermarkt.com/kingsley-coman/marktwertverlauf/spieler/243714',\n",
       " 'https://www.transfermarkt.com/mathys-tel/marktwertverlauf/spieler/801734',\n",
       " 'https://www.transfermarkt.com/arijon-ibrahimovic/marktwertverlauf/spieler/744728',\n",
       " 'https://www.transfermarkt.com/michael-olise/marktwertverlauf/spieler/566723',\n",
       " 'https://www.transfermarkt.com/leroy-sane/marktwertverlauf/spieler/192565',\n",
       " 'https://www.transfermarkt.com/nestory-irankunda/marktwertverlauf/spieler/956920',\n",
       " 'https://www.transfermarkt.com/thomas-muller/marktwertverlauf/spieler/58358',\n",
       " 'https://www.transfermarkt.com/harry-kane/marktwertverlauf/spieler/132098']"
      ]
     },
     "execution_count": 31,
     "metadata": {},
     "output_type": "execute_result"
    }
   ],
   "source": [
    "html = driver.page_source\n",
    "soup = BeautifulSoup(html, \"html\")\n",
    "\n",
    "player_links_raw = soup.find(id = \"yw1\").find(\"tbody\").find_all(class_ = \"rechts hauptlink\")\n",
    "player_links = []\n",
    "for i in player_links_raw:\n",
    "    player_links.append(f\"https://www.transfermarkt.com{i.find(\"a\")[\"href\"]}\")\n",
    "player_links"
   ]
  },
  {
   "cell_type": "code",
   "execution_count": 32,
   "metadata": {},
   "outputs": [],
   "source": [
    "driver.get(player_links[0])"
   ]
  },
  {
   "cell_type": "code",
   "execution_count": 157,
   "metadata": {},
   "outputs": [],
   "source": [
    "def get_player_values(driver = driver):\n",
    "    finished = False\n",
    "    tries = 0\n",
    "    while (finished == False & tries <= 10):\n",
    "        try:\n",
    "            values_raw = driver.find_element(By.CLASS_NAME,\"box\").find_element(By.CLASS_NAME, \"chart-dots\").find_elements(By.CSS_SELECTOR, \"*\")\n",
    "            finished = True\n",
    "        except:\n",
    "            finished = False\n",
    "            tries += 1\n",
    "            if (tries < 10):\n",
    "                print(f\"try # {tries} did noot work. i will try again. stop after 10 tries\")\n",
    "            else:\n",
    "                print(\"i tried 10 times. i will stop now\")\n",
    "                break\n",
    "    result_list = []\n",
    "    for i in values_raw:\n",
    "        ActionChains(driver).move_to_element(i).perform()\n",
    "        if i == values_raw[len(values_raw)-1]:\n",
    "            ActionChains(driver).move_by_offset(-2, 0).perform() # a little tweak because the last element is not recognized\t\n",
    "        finished = False\n",
    "        tries = 0\n",
    "        while (finished == False & tries <= 10):\n",
    "            try:\t\n",
    "                result = WebDriverWait(driver, 30).until(EC.presence_of_element_located((By.XPATH, '//*[@id=\"tm-main\"]/div[2]/div[1]/div/tm-market-value-development-graph-extended/div/div/div/p')))\n",
    "                finished = True\n",
    "            except:\n",
    "                finished = False\n",
    "                tries += 1\n",
    "                if (tries < 10):\n",
    "                    print(f\"try # {tries} did noot work. i will try again. stop after 10 tries\")\n",
    "                else:\n",
    "                    print(\"i tried 10 times. i will stop now\")\n",
    "                    break\n",
    "        result = result.text\n",
    "        date = re.search(\"^.*\\n\", result).group(0)\n",
    "        date = re.sub(\"\\n\", \"\", date)\t\n",
    "        \n",
    "        value = re.search(\"Market value:.*\\n\", result).group(0)\n",
    "        value = re.sub(\"\\n\", \"\", value)\n",
    "        value = re.sub(\"\\\\.\\\\d\\\\dm\",\"000000\", value)\n",
    "        value = re.sub(\".*: \",\"\", value)\n",
    "        value = re.sub(\"k\",\"000\", value)\n",
    "        value = re.search(\"\\\\d+\", value).group(0)\n",
    "        \n",
    "        club = re.search(\"Club:.*\\n\", result).group(0)\n",
    "        club = re.sub(\"\\n\", \"\", club)\n",
    "        club = re.sub(\".*: \",\"\", club)\n",
    "        \n",
    "        age = re.search(\"Age:.*\", result).group(0)\n",
    "        age = re.sub(\"\\n\", \"\", age)\n",
    "        age = re.sub(\".*: \",\"\", age)\n",
    "        \n",
    "        result_list.append({\"Date\": date, \"Value\": value, \"Club\": club, \"Age\": age})\n",
    "    \n",
    "    html = driver.page_source \n",
    "    soup = BeautifulSoup(html, \"html\")\n",
    "    \n",
    "    name = soup.find(class_ = 'data-header').find(\"h1\").text\n",
    "    name = re.search(\"\\n.*$\", name).group(0)\n",
    "    name = re.sub(\"\\n\",\"\", name)\n",
    "    name.lstrip().rstrip()\n",
    "    \n",
    "    birthdate = soup.find(class_ = 'data-header__details').find('ul').find(\"li\").text \n",
    "    birthdate = re.search(\"\\n.*\\\\(\", birthdate).group(0)\n",
    "    birthdate = re.sub(\"(\\n)|(\\\\()\",\"\", birthdate)\n",
    "    birthdate.lstrip().rstrip()\n",
    "    \n",
    "    result_df = pd.DataFrame(result_list)\n",
    "    result_df[\"player_name\"] = name\n",
    "    result_df[\"player_birthdate\"] = birthdate\n",
    "    return result_df"
   ]
  },
  {
   "cell_type": "code",
   "execution_count": 158,
   "metadata": {},
   "outputs": [
    {
     "name": "stdout",
     "output_type": "stream",
     "text": [
      "Got player: Manuel Neuer\n",
      "Got player: Daniel Peretz\n",
      "try # 1 did noot work. i will try again. stop after 10 tries\n",
      "Got player: Sven Ulreich\n",
      "Got player: Dayot Upamecano\n",
      "Got player: Min-jae Kim\n",
      "Got player: Hiroki Ito\n",
      "Got player: Eric Dier\n",
      "Got player: Tarek Buchmann\n",
      "Got player: Alphonso Davies\n",
      "Got player: Raphaël Guerreiro\n",
      "Got player: Adam Aznou\n",
      "try # 1 did noot work. i will try again. stop after 10 tries\n",
      "Got player: Josip Stanisic\n",
      "try # 1 did noot work. i will try again. stop after 10 tries\n",
      "Got player: Sacha Boey\n",
      "Got player: Joshua Kimmich\n",
      "Got player: João Palhinha\n",
      "Got player: Aleksandar Pavlovic\n",
      "Got player: Konrad Laimer\n",
      "Got player: Leon Goretzka\n",
      "Got player: Jamal Musiala\n",
      "Got player: Serge Gnabry\n",
      "Got player: Kingsley Coman\n",
      "try # 1 did noot work. i will try again. stop after 10 tries\n",
      "Got player: Mathys Tel\n",
      "Got player: Arijon Ibrahimovic\n",
      "Got player: Michael Olise\n",
      "Got player: Leroy Sané\n",
      "Got player: Nestory Irankunda\n",
      "try # 1 did noot work. i will try again. stop after 10 tries\n",
      "Got player: Thomas Müller\n",
      "Got player: Harry Kane\n"
     ]
    }
   ],
   "source": [
    "all_players = pd.DataFrame()\n",
    "\n",
    "for i in player_links:\n",
    "    driver.get(i)\n",
    "    one_player = get_player_values(driver)\n",
    "    player_id = re.sub(\".*spieler/\",\"\",i)\n",
    "    one_player[\"player_id\"] = player_id\n",
    "    print(f\"Got player: {one_player.loc[1,\"player_name\"].strip()}\")\n",
    "    all_players = pd.concat([all_players, one_player], ignore_index = True)\n"
   ]
  },
  {
   "cell_type": "code",
   "execution_count": null,
   "metadata": {},
   "outputs": [],
   "source": []
  }
 ],
 "metadata": {
  "kernelspec": {
   "display_name": "Python 3",
   "language": "python",
   "name": "python3"
  },
  "language_info": {
   "codemirror_mode": {
    "name": "ipython",
    "version": 3
   },
   "file_extension": ".py",
   "mimetype": "text/x-python",
   "name": "python",
   "nbconvert_exporter": "python",
   "pygments_lexer": "ipython3",
   "version": "3.13.0"
  }
 },
 "nbformat": 4,
 "nbformat_minor": 2
}
